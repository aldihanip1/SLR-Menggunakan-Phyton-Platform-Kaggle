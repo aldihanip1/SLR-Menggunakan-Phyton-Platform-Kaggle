{
 "cells": [
  {
   "cell_type": "code",
   "execution_count": 1,
   "metadata": {
    "execution": {
     "iopub.execute_input": "2023-11-09T16:21:58.595756Z",
     "iopub.status.busy": "2023-11-09T16:21:58.595203Z",
     "iopub.status.idle": "2023-11-09T16:21:58.600551Z",
     "shell.execute_reply": "2023-11-09T16:21:58.599615Z",
     "shell.execute_reply.started": "2023-11-09T16:21:58.595679Z"
    }
   },
   "outputs": [],
   "source": [
    "# import all the lib\n",
    "import pandas as pd\n",
    "import matplotlib.pyplot as plt\n",
    "import seaborn as sns\n",
    "import numpy as np"
   ]
  },
  {
   "cell_type": "code",
   "execution_count": 2,
   "metadata": {
    "execution": {
     "iopub.execute_input": "2023-11-09T16:22:00.485188Z",
     "iopub.status.busy": "2023-11-09T16:22:00.484599Z",
     "iopub.status.idle": "2023-11-09T16:22:00.851662Z",
     "shell.execute_reply": "2023-11-09T16:22:00.850704Z",
     "shell.execute_reply.started": "2023-11-09T16:22:00.485095Z"
    }
   },
   "outputs": [],
   "source": [
    "# read the dataset using pandas\n",
    "data = pd.read_csv('/kaggle/input/fifa-21-complete-player-dataset/players_21.csv')"
   ]
  },
  {
   "cell_type": "code",
   "execution_count": 3,
   "metadata": {
    "execution": {
     "iopub.execute_input": "2023-11-09T16:22:02.058771Z",
     "iopub.status.busy": "2023-11-09T16:22:02.058445Z",
     "iopub.status.idle": "2023-11-09T16:22:02.103097Z",
     "shell.execute_reply": "2023-11-09T16:22:02.102347Z",
     "shell.execute_reply.started": "2023-11-09T16:22:02.058725Z"
    }
   },
   "outputs": [
    {
     "data": {
      "text/html": [
       "<div>\n",
       "<style scoped>\n",
       "    .dataframe tbody tr th:only-of-type {\n",
       "        vertical-align: middle;\n",
       "    }\n",
       "\n",
       "    .dataframe tbody tr th {\n",
       "        vertical-align: top;\n",
       "    }\n",
       "\n",
       "    .dataframe thead th {\n",
       "        text-align: right;\n",
       "    }\n",
       "</style>\n",
       "<table border=\"1\" class=\"dataframe\">\n",
       "  <thead>\n",
       "    <tr style=\"text-align: right;\">\n",
       "      <th></th>\n",
       "      <th>sofifa_id</th>\n",
       "      <th>player_url</th>\n",
       "      <th>short_name</th>\n",
       "      <th>long_name</th>\n",
       "      <th>age</th>\n",
       "      <th>dob</th>\n",
       "      <th>height_cm</th>\n",
       "      <th>weight_kg</th>\n",
       "      <th>nationality</th>\n",
       "      <th>club_name</th>\n",
       "      <th>...</th>\n",
       "      <th>lwb</th>\n",
       "      <th>ldm</th>\n",
       "      <th>cdm</th>\n",
       "      <th>rdm</th>\n",
       "      <th>rwb</th>\n",
       "      <th>lb</th>\n",
       "      <th>lcb</th>\n",
       "      <th>cb</th>\n",
       "      <th>rcb</th>\n",
       "      <th>rb</th>\n",
       "    </tr>\n",
       "  </thead>\n",
       "  <tbody>\n",
       "    <tr>\n",
       "      <th>0</th>\n",
       "      <td>158023</td>\n",
       "      <td>https://sofifa.com/player/158023/lionel-messi/...</td>\n",
       "      <td>L. Messi</td>\n",
       "      <td>Lionel Andrés Messi Cuccittini</td>\n",
       "      <td>33</td>\n",
       "      <td>1987-06-24</td>\n",
       "      <td>170</td>\n",
       "      <td>72</td>\n",
       "      <td>Argentina</td>\n",
       "      <td>FC Barcelona</td>\n",
       "      <td>...</td>\n",
       "      <td>66+3</td>\n",
       "      <td>65+3</td>\n",
       "      <td>65+3</td>\n",
       "      <td>65+3</td>\n",
       "      <td>66+3</td>\n",
       "      <td>62+3</td>\n",
       "      <td>52+3</td>\n",
       "      <td>52+3</td>\n",
       "      <td>52+3</td>\n",
       "      <td>62+3</td>\n",
       "    </tr>\n",
       "    <tr>\n",
       "      <th>1</th>\n",
       "      <td>20801</td>\n",
       "      <td>https://sofifa.com/player/20801/c-ronaldo-dos-...</td>\n",
       "      <td>Cristiano Ronaldo</td>\n",
       "      <td>Cristiano Ronaldo dos Santos Aveiro</td>\n",
       "      <td>35</td>\n",
       "      <td>1985-02-05</td>\n",
       "      <td>187</td>\n",
       "      <td>83</td>\n",
       "      <td>Portugal</td>\n",
       "      <td>Juventus</td>\n",
       "      <td>...</td>\n",
       "      <td>65+3</td>\n",
       "      <td>61+3</td>\n",
       "      <td>61+3</td>\n",
       "      <td>61+3</td>\n",
       "      <td>65+3</td>\n",
       "      <td>61+3</td>\n",
       "      <td>54+3</td>\n",
       "      <td>54+3</td>\n",
       "      <td>54+3</td>\n",
       "      <td>61+3</td>\n",
       "    </tr>\n",
       "    <tr>\n",
       "      <th>2</th>\n",
       "      <td>200389</td>\n",
       "      <td>https://sofifa.com/player/200389/jan-oblak/210002</td>\n",
       "      <td>J. Oblak</td>\n",
       "      <td>Jan Oblak</td>\n",
       "      <td>27</td>\n",
       "      <td>1993-01-07</td>\n",
       "      <td>188</td>\n",
       "      <td>87</td>\n",
       "      <td>Slovenia</td>\n",
       "      <td>Atlético Madrid</td>\n",
       "      <td>...</td>\n",
       "      <td>32+3</td>\n",
       "      <td>36+3</td>\n",
       "      <td>36+3</td>\n",
       "      <td>36+3</td>\n",
       "      <td>32+3</td>\n",
       "      <td>32+3</td>\n",
       "      <td>33+3</td>\n",
       "      <td>33+3</td>\n",
       "      <td>33+3</td>\n",
       "      <td>32+3</td>\n",
       "    </tr>\n",
       "    <tr>\n",
       "      <th>3</th>\n",
       "      <td>188545</td>\n",
       "      <td>https://sofifa.com/player/188545/robert-lewand...</td>\n",
       "      <td>R. Lewandowski</td>\n",
       "      <td>Robert Lewandowski</td>\n",
       "      <td>31</td>\n",
       "      <td>1988-08-21</td>\n",
       "      <td>184</td>\n",
       "      <td>80</td>\n",
       "      <td>Poland</td>\n",
       "      <td>FC Bayern München</td>\n",
       "      <td>...</td>\n",
       "      <td>64+3</td>\n",
       "      <td>65+3</td>\n",
       "      <td>65+3</td>\n",
       "      <td>65+3</td>\n",
       "      <td>64+3</td>\n",
       "      <td>61+3</td>\n",
       "      <td>60+3</td>\n",
       "      <td>60+3</td>\n",
       "      <td>60+3</td>\n",
       "      <td>61+3</td>\n",
       "    </tr>\n",
       "    <tr>\n",
       "      <th>4</th>\n",
       "      <td>190871</td>\n",
       "      <td>https://sofifa.com/player/190871/neymar-da-sil...</td>\n",
       "      <td>Neymar Jr</td>\n",
       "      <td>Neymar da Silva Santos Júnior</td>\n",
       "      <td>28</td>\n",
       "      <td>1992-02-05</td>\n",
       "      <td>175</td>\n",
       "      <td>68</td>\n",
       "      <td>Brazil</td>\n",
       "      <td>Paris Saint-Germain</td>\n",
       "      <td>...</td>\n",
       "      <td>67+3</td>\n",
       "      <td>62+3</td>\n",
       "      <td>62+3</td>\n",
       "      <td>62+3</td>\n",
       "      <td>67+3</td>\n",
       "      <td>62+3</td>\n",
       "      <td>49+3</td>\n",
       "      <td>49+3</td>\n",
       "      <td>49+3</td>\n",
       "      <td>62+3</td>\n",
       "    </tr>\n",
       "  </tbody>\n",
       "</table>\n",
       "<p>5 rows × 106 columns</p>\n",
       "</div>"
      ],
      "text/plain": [
       "   sofifa_id                                         player_url  \\\n",
       "0     158023  https://sofifa.com/player/158023/lionel-messi/...   \n",
       "1      20801  https://sofifa.com/player/20801/c-ronaldo-dos-...   \n",
       "2     200389  https://sofifa.com/player/200389/jan-oblak/210002   \n",
       "3     188545  https://sofifa.com/player/188545/robert-lewand...   \n",
       "4     190871  https://sofifa.com/player/190871/neymar-da-sil...   \n",
       "\n",
       "          short_name                            long_name  age         dob  \\\n",
       "0           L. Messi       Lionel Andrés Messi Cuccittini   33  1987-06-24   \n",
       "1  Cristiano Ronaldo  Cristiano Ronaldo dos Santos Aveiro   35  1985-02-05   \n",
       "2           J. Oblak                            Jan Oblak   27  1993-01-07   \n",
       "3     R. Lewandowski                   Robert Lewandowski   31  1988-08-21   \n",
       "4          Neymar Jr        Neymar da Silva Santos Júnior   28  1992-02-05   \n",
       "\n",
       "   height_cm  weight_kg nationality            club_name  ...   lwb   ldm  \\\n",
       "0        170         72   Argentina         FC Barcelona  ...  66+3  65+3   \n",
       "1        187         83    Portugal             Juventus  ...  65+3  61+3   \n",
       "2        188         87    Slovenia      Atlético Madrid  ...  32+3  36+3   \n",
       "3        184         80      Poland    FC Bayern München  ...  64+3  65+3   \n",
       "4        175         68      Brazil  Paris Saint-Germain  ...  67+3  62+3   \n",
       "\n",
       "    cdm   rdm   rwb    lb   lcb    cb   rcb    rb  \n",
       "0  65+3  65+3  66+3  62+3  52+3  52+3  52+3  62+3  \n",
       "1  61+3  61+3  65+3  61+3  54+3  54+3  54+3  61+3  \n",
       "2  36+3  36+3  32+3  32+3  33+3  33+3  33+3  32+3  \n",
       "3  65+3  65+3  64+3  61+3  60+3  60+3  60+3  61+3  \n",
       "4  62+3  62+3  67+3  62+3  49+3  49+3  49+3  62+3  \n",
       "\n",
       "[5 rows x 106 columns]"
      ]
     },
     "execution_count": 3,
     "metadata": {},
     "output_type": "execute_result"
    }
   ],
   "source": [
    "# This displays the top 5 rows of the data\n",
    "data.head()"
   ]
  },
  {
   "cell_type": "code",
   "execution_count": 4,
   "metadata": {
    "execution": {
     "iopub.execute_input": "2023-11-09T16:22:05.025836Z",
     "iopub.status.busy": "2023-11-09T16:22:05.025290Z",
     "iopub.status.idle": "2023-11-09T16:22:05.042420Z",
     "shell.execute_reply": "2023-11-09T16:22:05.040936Z",
     "shell.execute_reply.started": "2023-11-09T16:22:05.025787Z"
    }
   },
   "outputs": [
    {
     "name": "stdout",
     "output_type": "stream",
     "text": [
      "<class 'pandas.core.frame.DataFrame'>\n",
      "RangeIndex: 18944 entries, 0 to 18943\n",
      "Columns: 106 entries, sofifa_id to rb\n",
      "dtypes: float64(18), int64(44), object(44)\n",
      "memory usage: 15.3+ MB\n"
     ]
    }
   ],
   "source": [
    "# Provides some information regarding the columns in the data\n",
    "data.info()"
   ]
  },
  {
   "cell_type": "code",
   "execution_count": 5,
   "metadata": {
    "execution": {
     "iopub.execute_input": "2023-11-09T16:22:36.014188Z",
     "iopub.status.busy": "2023-11-09T16:22:36.013795Z",
     "iopub.status.idle": "2023-11-09T16:22:36.243711Z",
     "shell.execute_reply": "2023-11-09T16:22:36.242896Z",
     "shell.execute_reply.started": "2023-11-09T16:22:36.014119Z"
    }
   },
   "outputs": [
    {
     "data": {
      "text/html": [
       "<div>\n",
       "<style scoped>\n",
       "    .dataframe tbody tr th:only-of-type {\n",
       "        vertical-align: middle;\n",
       "    }\n",
       "\n",
       "    .dataframe tbody tr th {\n",
       "        vertical-align: top;\n",
       "    }\n",
       "\n",
       "    .dataframe thead th {\n",
       "        text-align: right;\n",
       "    }\n",
       "</style>\n",
       "<table border=\"1\" class=\"dataframe\">\n",
       "  <thead>\n",
       "    <tr style=\"text-align: right;\">\n",
       "      <th></th>\n",
       "      <th>sofifa_id</th>\n",
       "      <th>age</th>\n",
       "      <th>height_cm</th>\n",
       "      <th>weight_kg</th>\n",
       "      <th>league_rank</th>\n",
       "      <th>overall</th>\n",
       "      <th>potential</th>\n",
       "      <th>value_eur</th>\n",
       "      <th>wage_eur</th>\n",
       "      <th>international_reputation</th>\n",
       "      <th>...</th>\n",
       "      <th>mentality_penalties</th>\n",
       "      <th>mentality_composure</th>\n",
       "      <th>defending_marking</th>\n",
       "      <th>defending_standing_tackle</th>\n",
       "      <th>defending_sliding_tackle</th>\n",
       "      <th>goalkeeping_diving</th>\n",
       "      <th>goalkeeping_handling</th>\n",
       "      <th>goalkeeping_kicking</th>\n",
       "      <th>goalkeeping_positioning</th>\n",
       "      <th>goalkeeping_reflexes</th>\n",
       "    </tr>\n",
       "  </thead>\n",
       "  <tbody>\n",
       "    <tr>\n",
       "      <th>count</th>\n",
       "      <td>18944.000000</td>\n",
       "      <td>18944.000000</td>\n",
       "      <td>18944.000000</td>\n",
       "      <td>18944.000000</td>\n",
       "      <td>18719.000000</td>\n",
       "      <td>18944.000000</td>\n",
       "      <td>18944.000000</td>\n",
       "      <td>1.894400e+04</td>\n",
       "      <td>18944.000000</td>\n",
       "      <td>18944.000000</td>\n",
       "      <td>...</td>\n",
       "      <td>18944.000000</td>\n",
       "      <td>18944.000000</td>\n",
       "      <td>0.0</td>\n",
       "      <td>18944.000000</td>\n",
       "      <td>18944.000000</td>\n",
       "      <td>18944.000000</td>\n",
       "      <td>18944.000000</td>\n",
       "      <td>18944.000000</td>\n",
       "      <td>18944.000000</td>\n",
       "      <td>18944.000000</td>\n",
       "    </tr>\n",
       "    <tr>\n",
       "      <th>mean</th>\n",
       "      <td>226242.402872</td>\n",
       "      <td>25.225823</td>\n",
       "      <td>181.190773</td>\n",
       "      <td>75.016892</td>\n",
       "      <td>1.357070</td>\n",
       "      <td>65.677787</td>\n",
       "      <td>71.086729</td>\n",
       "      <td>2.224813e+06</td>\n",
       "      <td>8675.852513</td>\n",
       "      <td>1.091850</td>\n",
       "      <td>...</td>\n",
       "      <td>48.050412</td>\n",
       "      <td>57.978674</td>\n",
       "      <td>NaN</td>\n",
       "      <td>47.581767</td>\n",
       "      <td>45.546505</td>\n",
       "      <td>16.446052</td>\n",
       "      <td>16.236486</td>\n",
       "      <td>16.103357</td>\n",
       "      <td>16.225982</td>\n",
       "      <td>16.551309</td>\n",
       "    </tr>\n",
       "    <tr>\n",
       "      <th>std</th>\n",
       "      <td>27171.091056</td>\n",
       "      <td>4.697354</td>\n",
       "      <td>6.825672</td>\n",
       "      <td>7.057140</td>\n",
       "      <td>0.739327</td>\n",
       "      <td>7.002278</td>\n",
       "      <td>6.109985</td>\n",
       "      <td>5.102486e+06</td>\n",
       "      <td>19654.774894</td>\n",
       "      <td>0.361841</td>\n",
       "      <td>...</td>\n",
       "      <td>15.671721</td>\n",
       "      <td>12.118390</td>\n",
       "      <td>NaN</td>\n",
       "      <td>21.402461</td>\n",
       "      <td>20.953997</td>\n",
       "      <td>17.577332</td>\n",
       "      <td>16.845480</td>\n",
       "      <td>16.519399</td>\n",
       "      <td>17.017341</td>\n",
       "      <td>17.878121</td>\n",
       "    </tr>\n",
       "    <tr>\n",
       "      <th>min</th>\n",
       "      <td>41.000000</td>\n",
       "      <td>16.000000</td>\n",
       "      <td>155.000000</td>\n",
       "      <td>50.000000</td>\n",
       "      <td>1.000000</td>\n",
       "      <td>47.000000</td>\n",
       "      <td>47.000000</td>\n",
       "      <td>0.000000e+00</td>\n",
       "      <td>0.000000</td>\n",
       "      <td>1.000000</td>\n",
       "      <td>...</td>\n",
       "      <td>6.000000</td>\n",
       "      <td>12.000000</td>\n",
       "      <td>NaN</td>\n",
       "      <td>5.000000</td>\n",
       "      <td>4.000000</td>\n",
       "      <td>1.000000</td>\n",
       "      <td>1.000000</td>\n",
       "      <td>1.000000</td>\n",
       "      <td>1.000000</td>\n",
       "      <td>1.000000</td>\n",
       "    </tr>\n",
       "    <tr>\n",
       "      <th>25%</th>\n",
       "      <td>210030.500000</td>\n",
       "      <td>21.000000</td>\n",
       "      <td>176.000000</td>\n",
       "      <td>70.000000</td>\n",
       "      <td>1.000000</td>\n",
       "      <td>61.000000</td>\n",
       "      <td>67.000000</td>\n",
       "      <td>3.000000e+05</td>\n",
       "      <td>1000.000000</td>\n",
       "      <td>1.000000</td>\n",
       "      <td>...</td>\n",
       "      <td>38.750000</td>\n",
       "      <td>50.000000</td>\n",
       "      <td>NaN</td>\n",
       "      <td>27.000000</td>\n",
       "      <td>24.000000</td>\n",
       "      <td>8.000000</td>\n",
       "      <td>8.000000</td>\n",
       "      <td>8.000000</td>\n",
       "      <td>8.000000</td>\n",
       "      <td>8.000000</td>\n",
       "    </tr>\n",
       "    <tr>\n",
       "      <th>50%</th>\n",
       "      <td>232314.500000</td>\n",
       "      <td>25.000000</td>\n",
       "      <td>181.000000</td>\n",
       "      <td>75.000000</td>\n",
       "      <td>1.000000</td>\n",
       "      <td>66.000000</td>\n",
       "      <td>71.000000</td>\n",
       "      <td>6.500000e+05</td>\n",
       "      <td>3000.000000</td>\n",
       "      <td>1.000000</td>\n",
       "      <td>...</td>\n",
       "      <td>49.000000</td>\n",
       "      <td>59.000000</td>\n",
       "      <td>NaN</td>\n",
       "      <td>55.000000</td>\n",
       "      <td>52.000000</td>\n",
       "      <td>11.000000</td>\n",
       "      <td>11.000000</td>\n",
       "      <td>11.000000</td>\n",
       "      <td>11.000000</td>\n",
       "      <td>11.000000</td>\n",
       "    </tr>\n",
       "    <tr>\n",
       "      <th>75%</th>\n",
       "      <td>246760.250000</td>\n",
       "      <td>29.000000</td>\n",
       "      <td>186.000000</td>\n",
       "      <td>80.000000</td>\n",
       "      <td>1.000000</td>\n",
       "      <td>70.000000</td>\n",
       "      <td>75.000000</td>\n",
       "      <td>1.800000e+06</td>\n",
       "      <td>7000.000000</td>\n",
       "      <td>1.000000</td>\n",
       "      <td>...</td>\n",
       "      <td>60.000000</td>\n",
       "      <td>66.000000</td>\n",
       "      <td>NaN</td>\n",
       "      <td>65.000000</td>\n",
       "      <td>63.000000</td>\n",
       "      <td>14.000000</td>\n",
       "      <td>14.000000</td>\n",
       "      <td>14.000000</td>\n",
       "      <td>14.000000</td>\n",
       "      <td>14.000000</td>\n",
       "    </tr>\n",
       "    <tr>\n",
       "      <th>max</th>\n",
       "      <td>258970.000000</td>\n",
       "      <td>53.000000</td>\n",
       "      <td>206.000000</td>\n",
       "      <td>110.000000</td>\n",
       "      <td>4.000000</td>\n",
       "      <td>93.000000</td>\n",
       "      <td>95.000000</td>\n",
       "      <td>1.055000e+08</td>\n",
       "      <td>560000.000000</td>\n",
       "      <td>5.000000</td>\n",
       "      <td>...</td>\n",
       "      <td>92.000000</td>\n",
       "      <td>96.000000</td>\n",
       "      <td>NaN</td>\n",
       "      <td>93.000000</td>\n",
       "      <td>90.000000</td>\n",
       "      <td>90.000000</td>\n",
       "      <td>92.000000</td>\n",
       "      <td>93.000000</td>\n",
       "      <td>91.000000</td>\n",
       "      <td>90.000000</td>\n",
       "    </tr>\n",
       "  </tbody>\n",
       "</table>\n",
       "<p>8 rows × 62 columns</p>\n",
       "</div>"
      ],
      "text/plain": [
       "           sofifa_id           age     height_cm     weight_kg   league_rank  \\\n",
       "count   18944.000000  18944.000000  18944.000000  18944.000000  18719.000000   \n",
       "mean   226242.402872     25.225823    181.190773     75.016892      1.357070   \n",
       "std     27171.091056      4.697354      6.825672      7.057140      0.739327   \n",
       "min        41.000000     16.000000    155.000000     50.000000      1.000000   \n",
       "25%    210030.500000     21.000000    176.000000     70.000000      1.000000   \n",
       "50%    232314.500000     25.000000    181.000000     75.000000      1.000000   \n",
       "75%    246760.250000     29.000000    186.000000     80.000000      1.000000   \n",
       "max    258970.000000     53.000000    206.000000    110.000000      4.000000   \n",
       "\n",
       "            overall     potential     value_eur       wage_eur  \\\n",
       "count  18944.000000  18944.000000  1.894400e+04   18944.000000   \n",
       "mean      65.677787     71.086729  2.224813e+06    8675.852513   \n",
       "std        7.002278      6.109985  5.102486e+06   19654.774894   \n",
       "min       47.000000     47.000000  0.000000e+00       0.000000   \n",
       "25%       61.000000     67.000000  3.000000e+05    1000.000000   \n",
       "50%       66.000000     71.000000  6.500000e+05    3000.000000   \n",
       "75%       70.000000     75.000000  1.800000e+06    7000.000000   \n",
       "max       93.000000     95.000000  1.055000e+08  560000.000000   \n",
       "\n",
       "       international_reputation  ...  mentality_penalties  \\\n",
       "count              18944.000000  ...         18944.000000   \n",
       "mean                   1.091850  ...            48.050412   \n",
       "std                    0.361841  ...            15.671721   \n",
       "min                    1.000000  ...             6.000000   \n",
       "25%                    1.000000  ...            38.750000   \n",
       "50%                    1.000000  ...            49.000000   \n",
       "75%                    1.000000  ...            60.000000   \n",
       "max                    5.000000  ...            92.000000   \n",
       "\n",
       "       mentality_composure  defending_marking  defending_standing_tackle  \\\n",
       "count         18944.000000                0.0               18944.000000   \n",
       "mean             57.978674                NaN                  47.581767   \n",
       "std              12.118390                NaN                  21.402461   \n",
       "min              12.000000                NaN                   5.000000   \n",
       "25%              50.000000                NaN                  27.000000   \n",
       "50%              59.000000                NaN                  55.000000   \n",
       "75%              66.000000                NaN                  65.000000   \n",
       "max              96.000000                NaN                  93.000000   \n",
       "\n",
       "       defending_sliding_tackle  goalkeeping_diving  goalkeeping_handling  \\\n",
       "count              18944.000000        18944.000000          18944.000000   \n",
       "mean                  45.546505           16.446052             16.236486   \n",
       "std                   20.953997           17.577332             16.845480   \n",
       "min                    4.000000            1.000000              1.000000   \n",
       "25%                   24.000000            8.000000              8.000000   \n",
       "50%                   52.000000           11.000000             11.000000   \n",
       "75%                   63.000000           14.000000             14.000000   \n",
       "max                   90.000000           90.000000             92.000000   \n",
       "\n",
       "       goalkeeping_kicking  goalkeeping_positioning  goalkeeping_reflexes  \n",
       "count         18944.000000             18944.000000          18944.000000  \n",
       "mean             16.103357                16.225982             16.551309  \n",
       "std              16.519399                17.017341             17.878121  \n",
       "min               1.000000                 1.000000              1.000000  \n",
       "25%               8.000000                 8.000000              8.000000  \n",
       "50%              11.000000                11.000000             11.000000  \n",
       "75%              14.000000                14.000000             14.000000  \n",
       "max              93.000000                91.000000             90.000000  \n",
       "\n",
       "[8 rows x 62 columns]"
      ]
     },
     "execution_count": 5,
     "metadata": {},
     "output_type": "execute_result"
    }
   ],
   "source": [
    "# this describes the basic stat behind the dataset used \n",
    "data.describe()"
   ]
  },
  {
   "cell_type": "code",
   "execution_count": 6,
   "metadata": {
    "execution": {
     "iopub.execute_input": "2023-11-09T16:23:01.773976Z",
     "iopub.status.busy": "2023-11-09T16:23:01.773662Z",
     "iopub.status.idle": "2023-11-09T16:23:02.310495Z",
     "shell.execute_reply": "2023-11-09T16:23:02.309420Z",
     "shell.execute_reply.started": "2023-11-09T16:23:01.773932Z"
    }
   },
   "outputs": [
    {
     "name": "stderr",
     "output_type": "stream",
     "text": [
      "/opt/conda/lib/python3.6/site-packages/seaborn/axisgrid.py:2079: UserWarning: The `size` parameter has been renamed to `height`; please update your code.\n",
      "  warnings.warn(msg, UserWarning)\n"
     ]
    },
    {
     "data": {
      "text/plain": [
       "<Figure size 864x432 with 0 Axes>"
      ]
     },
     "metadata": {},
     "output_type": "display_data"
    },
    {
     "data": {
      "image/png": "[encoded data removed]",
      "text/plain": [
       "<Figure size 504x504 with 1 Axes>"
      ]
     },
     "metadata": {
      "needs_background": "light"
     },
     "output_type": "display_data"
    }
   ],
   "source": [
    "# These Plots help to explain the values and how they are scattered\n",
    "\n",
    "plt.figure(figsize=(12,6))\n",
    "sns.pairplot(data,x_vars=['age'],y_vars=['overall'],size=7,kind='scatter')\n",
    "plt.xlabel('usia')\n",
    "plt.ylabel('overall')\n",
    "plt.title('overall prediction')\n",
    "plt.show()"
   ]
  },
  {
   "cell_type": "code",
   "execution_count": 7,
   "metadata": {
    "execution": {
     "iopub.execute_input": "2023-11-09T16:23:17.313805Z",
     "iopub.status.busy": "2023-11-09T16:23:17.313463Z",
     "iopub.status.idle": "2023-11-09T16:23:17.320460Z",
     "shell.execute_reply": "2023-11-09T16:23:17.319686Z",
     "shell.execute_reply.started": "2023-11-09T16:23:17.313747Z"
    }
   },
   "outputs": [
    {
     "data": {
      "text/plain": [
       "0    93\n",
       "1    92\n",
       "2    91\n",
       "3    91\n",
       "4    91\n",
       "Name: overall, dtype: int64"
      ]
     },
     "execution_count": 7,
     "metadata": {},
     "output_type": "execute_result"
    }
   ],
   "source": [
    "# Cooking the data\n",
    "X = data['overall']\n",
    "X.head()"
   ]
  },
  {
   "cell_type": "code",
   "execution_count": 8,
   "metadata": {
    "execution": {
     "iopub.execute_input": "2023-11-09T16:23:20.282866Z",
     "iopub.status.busy": "2023-11-09T16:23:20.282281Z",
     "iopub.status.idle": "2023-11-09T16:23:20.290062Z",
     "shell.execute_reply": "2023-11-09T16:23:20.289189Z",
     "shell.execute_reply.started": "2023-11-09T16:23:20.282814Z"
    }
   },
   "outputs": [
    {
     "data": {
      "text/plain": [
       "0    72\n",
       "1    83\n",
       "2    87\n",
       "3    80\n",
       "4    68\n",
       "Name: weight_kg, dtype: int64"
      ]
     },
     "execution_count": 8,
     "metadata": {},
     "output_type": "execute_result"
    }
   ],
   "source": [
    "# Cooking the data\n",
    "y = data['weight_kg']\n",
    "y.head()"
   ]
  },
  {
   "cell_type": "code",
   "execution_count": 9,
   "metadata": {
    "execution": {
     "iopub.execute_input": "2023-11-09T16:23:23.060959Z",
     "iopub.status.busy": "2023-11-09T16:23:23.060602Z",
     "iopub.status.idle": "2023-11-09T16:23:23.077795Z",
     "shell.execute_reply": "2023-11-09T16:23:23.076973Z",
     "shell.execute_reply.started": "2023-11-09T16:23:23.060899Z"
    }
   },
   "outputs": [],
   "source": [
    "# Import Segregating data from scikit learn\n",
    "from sklearn.model_selection import train_test_split"
   ]
  },
  {
   "cell_type": "code",
   "execution_count": 10,
   "metadata": {
    "execution": {
     "iopub.execute_input": "2023-11-09T16:23:26.256878Z",
     "iopub.status.busy": "2023-11-09T16:23:26.256568Z",
     "iopub.status.idle": "2023-11-09T16:23:26.264916Z",
     "shell.execute_reply": "2023-11-09T16:23:26.264151Z",
     "shell.execute_reply.started": "2023-11-09T16:23:26.256834Z"
    }
   },
   "outputs": [],
   "source": [
    "# Split the data for train and test \n",
    "X_train,X_test,y_train,y_test = train_test_split(X,y,train_size=0.7,random_state=100)"
   ]
  },
  {
   "cell_type": "code",
   "execution_count": 11,
   "metadata": {
    "execution": {
     "iopub.execute_input": "2023-11-09T16:23:30.182249Z",
     "iopub.status.busy": "2023-11-09T16:23:30.181915Z",
     "iopub.status.idle": "2023-11-09T16:23:30.188188Z",
     "shell.execute_reply": "2023-11-09T16:23:30.187057Z",
     "shell.execute_reply.started": "2023-11-09T16:23:30.182190Z"
    }
   },
   "outputs": [],
   "source": [
    "# Create new axis for x column\n",
    "X_train = X_train[:,np.newaxis]\n",
    "X_test = X_test[:,np.newaxis]"
   ]
  },
  {
   "cell_type": "code",
   "execution_count": 12,
   "metadata": {
    "execution": {
     "iopub.execute_input": "2023-11-09T16:23:33.379320Z",
     "iopub.status.busy": "2023-11-09T16:23:33.378942Z",
     "iopub.status.idle": "2023-11-09T16:23:33.443007Z",
     "shell.execute_reply": "2023-11-09T16:23:33.442228Z",
     "shell.execute_reply.started": "2023-11-09T16:23:33.379250Z"
    }
   },
   "outputs": [],
   "source": [
    "# Importing Linear Regression model from scikit learn\n",
    "from sklearn.linear_model import LinearRegression"
   ]
  },
  {
   "cell_type": "code",
   "execution_count": 13,
   "metadata": {
    "execution": {
     "iopub.execute_input": "2023-11-09T16:23:37.057157Z",
     "iopub.status.busy": "2023-11-09T16:23:37.056838Z",
     "iopub.status.idle": "2023-11-09T16:23:37.083980Z",
     "shell.execute_reply": "2023-11-09T16:23:37.083357Z",
     "shell.execute_reply.started": "2023-11-09T16:23:37.057112Z"
    }
   },
   "outputs": [
    {
     "data": {
      "text/plain": [
       "LinearRegression(copy_X=True, fit_intercept=True, n_jobs=None, normalize=False)"
      ]
     },
     "execution_count": 13,
     "metadata": {},
     "output_type": "execute_result"
    }
   ],
   "source": [
    "# Fitting the model\n",
    "lr = LinearRegression()\n",
    "lr.fit(X_train,y_train)"
   ]
  },
  {
   "cell_type": "code",
   "execution_count": 14,
   "metadata": {
    "execution": {
     "iopub.execute_input": "2023-11-09T16:23:39.115010Z",
     "iopub.status.busy": "2023-11-09T16:23:39.114488Z",
     "iopub.status.idle": "2023-11-09T16:23:39.118917Z",
     "shell.execute_reply": "2023-11-09T16:23:39.118339Z",
     "shell.execute_reply.started": "2023-11-09T16:23:39.114945Z"
    }
   },
   "outputs": [],
   "source": [
    "# Predicting the Salary for the Test values\n",
    "y_pred = lr.predict(X_test)"
   ]
  },
  {
   "cell_type": "code",
   "execution_count": 15,
   "metadata": {
    "execution": {
     "iopub.execute_input": "2023-11-09T16:23:43.940707Z",
     "iopub.status.busy": "2023-11-09T16:23:43.940124Z",
     "iopub.status.idle": "2023-11-09T16:23:44.292175Z",
     "shell.execute_reply": "2023-11-09T16:23:44.291536Z",
     "shell.execute_reply.started": "2023-11-09T16:23:43.940659Z"
    }
   },
   "outputs": [
    {
     "data": {
      "image/png": "[encoded data removed]",
      "text/plain": [
       "<Figure size 432x288 with 1 Axes>"
      ]
     },
     "metadata": {
      "needs_background": "light"
     },
     "output_type": "display_data"
    }
   ],
   "source": [
    "# Plotting the actual and predicted values\n",
    "\n",
    "c = [i for i in range (1,len(y_test)+1,1)]\n",
    "plt.plot(c,y_test,color='r',linestyle='-')\n",
    "plt.plot(c,y_pred,color='b',linestyle='-')\n",
    "plt.xlabel('weight_kg')\n",
    "plt.ylabel('overall')\n",
    "plt.title('Prediction')\n",
    "plt.show()"
   ]
  },
  {
   "cell_type": "code",
   "execution_count": 16,
   "metadata": {
    "execution": {
     "iopub.execute_input": "2023-11-09T16:23:50.737467Z",
     "iopub.status.busy": "2023-11-09T16:23:50.736880Z",
     "iopub.status.idle": "2023-11-09T16:23:51.207668Z",
     "shell.execute_reply": "2023-11-09T16:23:51.206449Z",
     "shell.execute_reply.started": "2023-11-09T16:23:50.737418Z"
    }
   },
   "outputs": [
    {
     "data": {
      "image/png": "[encoded data removed]",
      "text/plain": [
       "<Figure size 432x288 with 1 Axes>"
      ]
     },
     "metadata": {
      "needs_background": "light"
     },
     "output_type": "display_data"
    }
   ],
   "source": [
    "# plotting the error\n",
    "c = [i for i in range(1,len(y_test)+1,1)]\n",
    "plt.plot(c,y_test-y_pred,color='green',linestyle='-')\n",
    "plt.xlabel('index')\n",
    "plt.ylabel('Error')\n",
    "plt.title('Error Value')\n",
    "plt.show()"
   ]
  },
  {
   "cell_type": "code",
   "execution_count": 17,
   "metadata": {
    "execution": {
     "iopub.execute_input": "2023-11-09T16:23:54.395981Z",
     "iopub.status.busy": "2023-11-09T16:23:54.395425Z",
     "iopub.status.idle": "2023-11-09T16:23:54.400204Z",
     "shell.execute_reply": "2023-11-09T16:23:54.399194Z",
     "shell.execute_reply.started": "2023-11-09T16:23:54.395933Z"
    }
   },
   "outputs": [],
   "source": [
    "# Importing metrics for the evaluation of the model\n",
    "from sklearn.metrics import r2_score,mean_squared_error"
   ]
  },
  {
   "cell_type": "code",
   "execution_count": 18,
   "metadata": {
    "execution": {
     "iopub.execute_input": "2023-11-09T16:23:56.925050Z",
     "iopub.status.busy": "2023-11-09T16:23:56.924737Z",
     "iopub.status.idle": "2023-11-09T16:23:56.929865Z",
     "shell.execute_reply": "2023-11-09T16:23:56.929060Z",
     "shell.execute_reply.started": "2023-11-09T16:23:56.925003Z"
    }
   },
   "outputs": [],
   "source": [
    "# calculate Mean square error\n",
    "mse = mean_squared_error(y_test,y_pred)"
   ]
  },
  {
   "cell_type": "code",
   "execution_count": 19,
   "metadata": {
    "execution": {
     "iopub.execute_input": "2023-11-09T16:24:56.575145Z",
     "iopub.status.busy": "2023-11-09T16:24:56.574767Z",
     "iopub.status.idle": "2023-11-09T16:24:56.580970Z",
     "shell.execute_reply": "2023-11-09T16:24:56.580073Z",
     "shell.execute_reply.started": "2023-11-09T16:24:56.575094Z"
    }
   },
   "outputs": [],
   "source": [
    "# Calculate R square vale\n",
    "rsq = r2_score(y_test,y_pred)"
   ]
  },
  {
   "cell_type": "code",
   "execution_count": 20,
   "metadata": {
    "execution": {
     "iopub.execute_input": "2023-11-09T16:24:58.647286Z",
     "iopub.status.busy": "2023-11-09T16:24:58.646931Z",
     "iopub.status.idle": "2023-11-09T16:24:58.652500Z",
     "shell.execute_reply": "2023-11-09T16:24:58.651555Z",
     "shell.execute_reply.started": "2023-11-09T16:24:58.647210Z"
    }
   },
   "outputs": [
    {
     "name": "stdout",
     "output_type": "stream",
     "text": [
      "mean squared error : 49.72041999200889\n",
      "r square : 0.024036274845677164\n"
     ]
    }
   ],
   "source": [
    "print('mean squared error :',mse)\n",
    "print('r square :',rsq)"
   ]
  },
  {
   "cell_type": "code",
   "execution_count": 21,
   "metadata": {
    "execution": {
     "iopub.execute_input": "2023-11-09T16:25:02.077493Z",
     "iopub.status.busy": "2023-11-09T16:25:02.077122Z",
     "iopub.status.idle": "2023-11-09T16:25:02.472967Z",
     "shell.execute_reply": "2023-11-09T16:25:02.471784Z",
     "shell.execute_reply.started": "2023-11-09T16:25:02.077442Z"
    }
   },
   "outputs": [
    {
     "data": {
      "image/png": "[encoded data removed]",
      "text/plain": [
       "<Figure size 864x432 with 1 Axes>"
      ]
     },
     "metadata": {
      "needs_background": "light"
     },
     "output_type": "display_data"
    }
   ],
   "source": [
    "# Just plot actual and predicted values for more insights\n",
    "plt.figure(figsize=(12,6))\n",
    "plt.scatter(y_test,y_pred,color='r',linestyle='-')\n",
    "plt.show()"
   ]
  },
  {
   "cell_type": "code",
   "execution_count": 22,
   "metadata": {
    "execution": {
     "iopub.execute_input": "2023-11-09T16:25:32.842303Z",
     "iopub.status.busy": "2023-11-09T16:25:32.841700Z",
     "iopub.status.idle": "2023-11-09T16:25:32.847965Z",
     "shell.execute_reply": "2023-11-09T16:25:32.847355Z",
     "shell.execute_reply.started": "2023-11-09T16:25:32.842203Z"
    }
   },
   "outputs": [
    {
     "name": "stdout",
     "output_type": "stream",
     "text": [
      "Intercept of the model: 65.69628159447896\n",
      "Coefficient of the line: [0.14253411]\n"
     ]
    }
   ],
   "source": [
    "# Intecept and coeff of the line\n",
    "print('Intercept of the model:',lr.intercept_)\n",
    "print('Coefficient of the line:',lr.coef_)"
   ]
  },
  {
   "cell_type": "markdown",
   "metadata": {},
   "source": [
    "![](http://)Then it is said to form a line with\n",
    "# y = 25202.8 + 9731.2x"
   ]
  }
 ],
 "metadata": {
  "kernelspec": {
   "display_name": "Python 3",
   "language": "python",
   "name": "python3"
  },
  "language_info": {
   "codemirror_mode": {
    "name": "ipython",
    "version": 3
   },
   "file_extension": ".py",
   "mimetype": "text/x-python",
   "name": "python",
   "nbconvert_exporter": "python",
   "pygments_lexer": "ipython3",
   "version": "3.6.6"
  }
 },
 "nbformat": 4,
 "nbformat_minor": 4
}
